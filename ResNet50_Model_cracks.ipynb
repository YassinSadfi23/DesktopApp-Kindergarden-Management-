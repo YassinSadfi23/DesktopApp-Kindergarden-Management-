{
  "cells": [
    {
      "cell_type": "markdown",
      "metadata": {
        "id": "view-in-github",
        "colab_type": "text"
      },
      "source": [
        "<a href=\"https://colab.research.google.com/github/YassinSadfi23/DesktopApp-Kindergarden-Management-/blob/main/ResNet50_Model_cracks.ipynb\" target=\"_parent\"><img src=\"https://colab.research.google.com/assets/colab-badge.svg\" alt=\"Open In Colab\"/></a>"
      ]
    },
    {
      "cell_type": "markdown",
      "metadata": {
        "id": "b2925352-cf72-4358-8b66-cc138aa866e9"
      },
      "source": [
        "<a href=\"https://cognitiveclass.ai\"><img src=\"https://cf-courses-data.s3.us.cloud-object-storage.appdomain.cloud/IBMDeveloperSkillsNetwork-DL0321EN-SkillsNetwork/image/IDSN-logo.png\" width=\"400\"> </a>\n",
        "\n",
        "<h1 align=center><font size = 5>Pre-Trained Models</font></h1>\n"
      ]
    },
    {
      "cell_type": "markdown",
      "metadata": {
        "id": "c3a65f9f-a2f6-4638-86a0-9bdca278db4d"
      },
      "source": [
        "## Objective\n"
      ]
    },
    {
      "cell_type": "markdown",
      "metadata": {
        "id": "02a8abe1-349c-439c-9987-6e322b987c98"
      },
      "source": [
        "In this lab, you will learn how to leverage pre-trained models to build image classifiers instead of building a model from scratch.\n"
      ]
    },
    {
      "cell_type": "markdown",
      "metadata": {
        "id": "69e63421-70c1-4b3a-848c-88cdce408333"
      },
      "source": [
        "## Table of Contents\n",
        "\n",
        "<div class=\"alert alert-block alert-info\" style=\"margin-top: 20px\">\n",
        "\n",
        "<font size = 3>\n",
        "    \n",
        "1. <a href=\"#item31\">Import Libraries and Packages</a>\n",
        "2. <a href=\"#item32\">Download Data</a>  \n",
        "3. <a href=\"#item33\">Define Global Constants</a>  \n",
        "4. <a href=\"#item34\">Construct ImageDataGenerator Instances</a>  \n",
        "5. <a href=\"#item35\">Compile and Fit Model</a>\n",
        "\n",
        "</font>\n",
        "    \n",
        "</div>\n"
      ]
    },
    {
      "cell_type": "markdown",
      "metadata": {
        "id": "b3444ad8-b64d-41bb-8327-b36d29fc8d9d"
      },
      "source": [
        "   \n"
      ]
    },
    {
      "cell_type": "markdown",
      "metadata": {
        "id": "2fee1c17-a8f8-4455-ae42-739000f416d3"
      },
      "source": [
        "<a id='item31'></a>\n"
      ]
    },
    {
      "cell_type": "markdown",
      "metadata": {
        "id": "2bf2de36-c0e6-43e5-a0db-fadb1c7cc2c4"
      },
      "source": [
        "## Import Libraries and Packages\n"
      ]
    },
    {
      "cell_type": "markdown",
      "metadata": {
        "id": "097f5b90-6571-4d5e-9023-d75d3a21c48a"
      },
      "source": [
        "Let's start the lab by importing the libraries that we will be using in this lab. First we will need the library that helps us to import the data.\n"
      ]
    },
    {
      "cell_type": "code",
      "execution_count": 1,
      "metadata": {
        "colab": {
          "base_uri": "https://localhost:8080/"
        },
        "id": "0eabd8aa-a92f-4cad-a145-891a1129b2bb",
        "outputId": "e40c41e8-ce4d-491e-91f2-7a322b0abcf6"
      },
      "outputs": [
        {
          "output_type": "stream",
          "name": "stdout",
          "text": [
            "Collecting skillsnetwork\n",
            "  Downloading skillsnetwork-0.21.9-py3-none-any.whl.metadata (2.0 kB)\n",
            "Requirement already satisfied: ipython in /usr/local/lib/python3.10/dist-packages (from skillsnetwork) (7.34.0)\n",
            "Collecting ipywidgets<9,>=8 (from skillsnetwork)\n",
            "  Downloading ipywidgets-8.1.5-py3-none-any.whl.metadata (2.3 kB)\n",
            "Requirement already satisfied: requests<3,>=2 in /usr/local/lib/python3.10/dist-packages (from skillsnetwork) (2.32.3)\n",
            "Requirement already satisfied: tqdm<5,>=4 in /usr/local/lib/python3.10/dist-packages (from skillsnetwork) (4.66.5)\n",
            "Collecting comm>=0.1.3 (from ipywidgets<9,>=8->skillsnetwork)\n",
            "  Downloading comm-0.2.2-py3-none-any.whl.metadata (3.7 kB)\n",
            "Requirement already satisfied: traitlets>=4.3.1 in /usr/local/lib/python3.10/dist-packages (from ipywidgets<9,>=8->skillsnetwork) (5.7.1)\n",
            "Collecting widgetsnbextension~=4.0.12 (from ipywidgets<9,>=8->skillsnetwork)\n",
            "  Downloading widgetsnbextension-4.0.13-py3-none-any.whl.metadata (1.6 kB)\n",
            "Requirement already satisfied: jupyterlab-widgets~=3.0.12 in /usr/local/lib/python3.10/dist-packages (from ipywidgets<9,>=8->skillsnetwork) (3.0.13)\n",
            "Requirement already satisfied: setuptools>=18.5 in /usr/local/lib/python3.10/dist-packages (from ipython->skillsnetwork) (71.0.4)\n",
            "Collecting jedi>=0.16 (from ipython->skillsnetwork)\n",
            "  Using cached jedi-0.19.1-py2.py3-none-any.whl.metadata (22 kB)\n",
            "Requirement already satisfied: decorator in /usr/local/lib/python3.10/dist-packages (from ipython->skillsnetwork) (4.4.2)\n",
            "Requirement already satisfied: pickleshare in /usr/local/lib/python3.10/dist-packages (from ipython->skillsnetwork) (0.7.5)\n",
            "Requirement already satisfied: prompt-toolkit!=3.0.0,!=3.0.1,<3.1.0,>=2.0.0 in /usr/local/lib/python3.10/dist-packages (from ipython->skillsnetwork) (3.0.47)\n",
            "Requirement already satisfied: pygments in /usr/local/lib/python3.10/dist-packages (from ipython->skillsnetwork) (2.18.0)\n",
            "Requirement already satisfied: backcall in /usr/local/lib/python3.10/dist-packages (from ipython->skillsnetwork) (0.2.0)\n",
            "Requirement already satisfied: matplotlib-inline in /usr/local/lib/python3.10/dist-packages (from ipython->skillsnetwork) (0.1.7)\n",
            "Requirement already satisfied: pexpect>4.3 in /usr/local/lib/python3.10/dist-packages (from ipython->skillsnetwork) (4.9.0)\n",
            "Requirement already satisfied: charset-normalizer<4,>=2 in /usr/local/lib/python3.10/dist-packages (from requests<3,>=2->skillsnetwork) (3.3.2)\n",
            "Requirement already satisfied: idna<4,>=2.5 in /usr/local/lib/python3.10/dist-packages (from requests<3,>=2->skillsnetwork) (3.10)\n",
            "Requirement already satisfied: urllib3<3,>=1.21.1 in /usr/local/lib/python3.10/dist-packages (from requests<3,>=2->skillsnetwork) (2.2.3)\n",
            "Requirement already satisfied: certifi>=2017.4.17 in /usr/local/lib/python3.10/dist-packages (from requests<3,>=2->skillsnetwork) (2024.8.30)\n",
            "Requirement already satisfied: parso<0.9.0,>=0.8.3 in /usr/local/lib/python3.10/dist-packages (from jedi>=0.16->ipython->skillsnetwork) (0.8.4)\n",
            "Requirement already satisfied: ptyprocess>=0.5 in /usr/local/lib/python3.10/dist-packages (from pexpect>4.3->ipython->skillsnetwork) (0.7.0)\n",
            "Requirement already satisfied: wcwidth in /usr/local/lib/python3.10/dist-packages (from prompt-toolkit!=3.0.0,!=3.0.1,<3.1.0,>=2.0.0->ipython->skillsnetwork) (0.2.13)\n",
            "Downloading skillsnetwork-0.21.9-py3-none-any.whl (26 kB)\n",
            "Downloading ipywidgets-8.1.5-py3-none-any.whl (139 kB)\n",
            "\u001b[2K   \u001b[90m━━━━━━━━━━━━━━━━━━━━━━━━━━━━━━━━━━━━━━━━\u001b[0m \u001b[32m139.8/139.8 kB\u001b[0m \u001b[31m10.0 MB/s\u001b[0m eta \u001b[36m0:00:00\u001b[0m\n",
            "\u001b[?25hDownloading comm-0.2.2-py3-none-any.whl (7.2 kB)\n",
            "Using cached jedi-0.19.1-py2.py3-none-any.whl (1.6 MB)\n",
            "Downloading widgetsnbextension-4.0.13-py3-none-any.whl (2.3 MB)\n",
            "\u001b[2K   \u001b[90m━━━━━━━━━━━━━━━━━━━━━━━━━━━━━━━━━━━━━━━━\u001b[0m \u001b[32m2.3/2.3 MB\u001b[0m \u001b[31m45.5 MB/s\u001b[0m eta \u001b[36m0:00:00\u001b[0m\n",
            "\u001b[?25hInstalling collected packages: widgetsnbextension, jedi, comm, ipywidgets, skillsnetwork\n",
            "  Attempting uninstall: widgetsnbextension\n",
            "    Found existing installation: widgetsnbextension 3.6.9\n",
            "    Uninstalling widgetsnbextension-3.6.9:\n",
            "      Successfully uninstalled widgetsnbextension-3.6.9\n",
            "  Attempting uninstall: ipywidgets\n",
            "    Found existing installation: ipywidgets 7.7.1\n",
            "    Uninstalling ipywidgets-7.7.1:\n",
            "      Successfully uninstalled ipywidgets-7.7.1\n",
            "Successfully installed comm-0.2.2 ipywidgets-8.1.5 jedi-0.19.1 skillsnetwork-0.21.9 widgetsnbextension-4.0.13\n"
          ]
        }
      ],
      "source": [
        "!pip install skillsnetwork\n",
        "import skillsnetwork"
      ]
    },
    {
      "cell_type": "markdown",
      "metadata": {
        "id": "bbd0535a-e627-47a1-b903-2a52c2d08ab3"
      },
      "source": [
        "First, we will import the ImageDataGenerator module since we will be leveraging it to train our model in batches.\n"
      ]
    },
    {
      "cell_type": "code",
      "execution_count": 2,
      "metadata": {
        "id": "fea0e051-001b-488c-b2c5-87a682b745b6"
      },
      "outputs": [],
      "source": [
        "\n",
        "from tensorflow.keras.preprocessing.image import ImageDataGenerator # Import ImageDataGenerator from tensorflow.keras"
      ]
    },
    {
      "cell_type": "markdown",
      "metadata": {
        "id": "f27d5383-338e-4439-9627-6f92a11f4ea8"
      },
      "source": [
        "In this lab, we will be using the Keras library to build an image classifier, so let's download the Keras library.\n"
      ]
    },
    {
      "cell_type": "code",
      "execution_count": 3,
      "metadata": {
        "id": "e49e0408-acba-4e62-b4bf-cec7316c18a8"
      },
      "outputs": [],
      "source": [
        "import keras\n",
        "from keras.models import Sequential\n",
        "from keras.layers import Dense"
      ]
    },
    {
      "cell_type": "markdown",
      "metadata": {
        "id": "598a265a-0e24-4d65-b693-4fb6ee385b78"
      },
      "source": [
        "Finally, we will be leveraging the ResNet50 model to build our classifier, so let's download it as well.\n"
      ]
    },
    {
      "cell_type": "code",
      "execution_count": 4,
      "metadata": {
        "id": "3c5c4960-0346-41bb-b9a7-3fbd3eeba3b5"
      },
      "outputs": [],
      "source": [
        "from keras.applications import ResNet50\n",
        "from tensorflow.keras.applications.resnet50 import preprocess_input"
      ]
    },
    {
      "cell_type": "markdown",
      "metadata": {
        "id": "80a1e013-fd42-4cd0-8c05-cc386374e1bd"
      },
      "source": [
        "<a id='item32'></a>\n"
      ]
    },
    {
      "cell_type": "markdown",
      "metadata": {
        "id": "6c45f6e6-18c7-4bea-b0ab-f9102799a26a"
      },
      "source": [
        "## Download Data\n"
      ]
    },
    {
      "cell_type": "markdown",
      "metadata": {
        "id": "7b770f4e-954a-4de2-8759-7b49d6ffeb61"
      },
      "source": [
        "In this section, you are going to download the data from IBM object storage using **skillsnetwork.prepare** command. skillsnetwork.prepare is a command that's used to download a zip file, unzip it and store it in a specified directory.\n"
      ]
    },
    {
      "cell_type": "code",
      "execution_count": 5,
      "metadata": {
        "colab": {
          "base_uri": "https://localhost:8080/",
          "height": 34,
          "referenced_widgets": [
            "87d673fd462647a390a954076903e1ce",
            "adad8cbdea474f049f37cec024203b47",
            "90649c23e869427dbc51bd7ae325a3d7",
            "4fbe0a13150048a09feba5742706d78f",
            "1601cb0cc632495189c45b4918af8376",
            "b16fc74d7ee442cf855aaa8193467fa3",
            "b106d59ba4b84620b105c956676a9e68",
            "38844e900417488586fe20fb6129bfb6",
            "9d545af948e44f5d90d7cc1061cdc752",
            "3562f12918424f9e949b8abfa3def200",
            "17647042824040d9b0b41328948e242c",
            "d0d768e4abd742279397ea107a4b0e14",
            "1b3e6c37431c4f35b3174dba27fcbc4b",
            "6b920a4b0ef4419ea10390a33f91caee",
            "f78d7b74ac3b4eebbde1d2f67c038bf1",
            "2fe3dd320c0749c4a9e21a8725240f82",
            "23deba1ddd0042fa8d92a7165070dc1a",
            "3c186200034d4e47859586b52fbe8584",
            "d4e5a9c8e7704aee85463a2a82ac727d",
            "d047a9a45c4047ec8e8664deb2833df8",
            "a859667d9f624ef7b3f046bba45d0393",
            "83ac0e8bbe7a425d8fcfbdfe41569443"
          ]
        },
        "id": "4cd64f37-fae9-4f7f-b25a-3075b025a17e",
        "outputId": "e7922907-dccd-4adb-ea8b-8891ec642b75"
      },
      "outputs": [
        {
          "output_type": "display_data",
          "data": {
            "text/plain": [
              "Downloading concrete_data_week3.zip:   0%|          | 0/97863179 [00:00<?, ?it/s]"
            ],
            "application/vnd.jupyter.widget-view+json": {
              "version_major": 2,
              "version_minor": 0,
              "model_id": "87d673fd462647a390a954076903e1ce"
            }
          },
          "metadata": {}
        },
        {
          "output_type": "display_data",
          "data": {
            "text/plain": [
              "  0%|          | 0/30036 [00:00<?, ?it/s]"
            ],
            "application/vnd.jupyter.widget-view+json": {
              "version_major": 2,
              "version_minor": 0,
              "model_id": "d0d768e4abd742279397ea107a4b0e14"
            }
          },
          "metadata": {}
        },
        {
          "output_type": "stream",
          "name": "stdout",
          "text": [
            "Saved to '.'\n"
          ]
        }
      ],
      "source": [
        "## get the data\n",
        "await skillsnetwork.prepare(\"https://cf-courses-data.s3.us.cloud-object-storage.appdomain.cloud/IBMDeveloperSkillsNetwork-DL0321EN-SkillsNetwork/concrete_data_week3.zip\", overwrite=True)"
      ]
    },
    {
      "cell_type": "markdown",
      "metadata": {
        "id": "14ed2a99-c7de-482f-bd42-9ceece8d9fe4"
      },
      "source": [
        "Now, you should see the folder *concrete_data_week3* appear in the left pane. If you open this folder by double-clicking on it, you will find that it contains two folders: *train* and *valid*. And if you explore these folders, you will find that each contains two subfolders: *positive* and *negative*. These are the same folders that we saw in the labs in the previous modules of this course, where *negative* is the negative class and it represents the concrete images with no cracks and *positive* is the positive class and it represents the concrete images with cracks.\n"
      ]
    },
    {
      "cell_type": "markdown",
      "metadata": {
        "id": "ab34b495-4e94-4d32-b8da-e624146cb339"
      },
      "source": [
        "**Important Note**: There are thousands and thousands of images in each folder, so please don't attempt to double click on the *negative* and *positive* folders. This may consume all of your memory and you may end up with a **50** error. So please **DO NOT DO IT**.\n"
      ]
    },
    {
      "cell_type": "markdown",
      "metadata": {
        "id": "e0515abb-5932-4aee-9117-5cef6ce5a42f"
      },
      "source": [
        "<a id='item33'></a>\n"
      ]
    },
    {
      "cell_type": "markdown",
      "metadata": {
        "id": "b9f1629b-6a7b-417b-8211-4cad9f541da0"
      },
      "source": [
        "## Define Global Constants\n"
      ]
    },
    {
      "cell_type": "markdown",
      "metadata": {
        "id": "38ac6ae5-3a91-488f-9b08-eb08da56bdb2"
      },
      "source": [
        "Here, we will define constants that we will be using throughout the rest of the lab.\n",
        "\n",
        "1. We are obviously dealing with two classes, so *num_classes* is 2.\n",
        "2. The ResNet50 model was built and trained using images of size (224 x 224). Therefore, we will have to resize our images from (227 x 227) to (224 x 224).\n",
        "3. We will training and validating the model using batches of 100 images.\n"
      ]
    },
    {
      "cell_type": "code",
      "execution_count": 6,
      "metadata": {
        "id": "39b869e6-88ef-4d50-a337-c072fa384587"
      },
      "outputs": [],
      "source": [
        "num_classes = 2\n",
        "\n",
        "image_resize = 224\n",
        "\n",
        "batch_size_training = 100\n",
        "batch_size_validation = 100"
      ]
    },
    {
      "cell_type": "markdown",
      "metadata": {
        "id": "206726de-dc37-4a5b-aa9a-2daf6908b586"
      },
      "source": [
        "<a id='item34'></a>\n"
      ]
    },
    {
      "cell_type": "markdown",
      "metadata": {
        "id": "3ff9ec73-ae0c-4105-baa5-b4bdde215667"
      },
      "source": [
        "## Construct ImageDataGenerator Instances\n"
      ]
    },
    {
      "cell_type": "markdown",
      "metadata": {
        "id": "32a656dd-0656-4a1c-80d9-65859faa7649"
      },
      "source": [
        "In order to instantiate an ImageDataGenerator instance, we will set the **preprocessing_function** argument to *preprocess_input* which we imported from **keras.applications.resnet50** in order to preprocess our images the same way the images used to train ResNet50 model were processed.\n"
      ]
    },
    {
      "cell_type": "code",
      "execution_count": 7,
      "metadata": {
        "id": "e97a55ab-4e21-42bd-9a5d-60124e306fec"
      },
      "outputs": [],
      "source": [
        "data_generator = ImageDataGenerator(\n",
        "    preprocessing_function=preprocess_input,\n",
        ")"
      ]
    },
    {
      "cell_type": "markdown",
      "metadata": {
        "id": "b2b4f25a-343e-4914-84ad-0dabdc5190de"
      },
      "source": [
        "Next, we will use the *flow_from_directory* method to get the training images as follows:\n"
      ]
    },
    {
      "cell_type": "code",
      "execution_count": 8,
      "metadata": {
        "colab": {
          "base_uri": "https://localhost:8080/"
        },
        "id": "a8625422-6d7b-4e3f-b996-211e88e773c2",
        "outputId": "dd054d40-6e76-40fd-e4aa-f51336e4df4e"
      },
      "outputs": [
        {
          "output_type": "stream",
          "name": "stdout",
          "text": [
            "Found 10001 images belonging to 2 classes.\n"
          ]
        }
      ],
      "source": [
        "train_generator = data_generator.flow_from_directory(\n",
        "    'concrete_data_week3/train',\n",
        "    target_size=(image_resize, image_resize),\n",
        "    batch_size=batch_size_training,\n",
        "    class_mode='categorical')"
      ]
    },
    {
      "cell_type": "markdown",
      "metadata": {
        "id": "eaa0f25a-9dae-4d5a-bc85-648c8f371e57"
      },
      "source": [
        "**Note**: in this lab, we will be using the full data-set of 30,000 images for training and validation.\n"
      ]
    },
    {
      "cell_type": "markdown",
      "metadata": {
        "id": "0bc96524-5a08-40ce-84f6-2badc2e80c04"
      },
      "source": [
        "**Your Turn**: Use the *flow_from_directory* method to get the validation images and assign the result to **validation_generator**.\n"
      ]
    },
    {
      "cell_type": "code",
      "execution_count": 9,
      "metadata": {
        "colab": {
          "base_uri": "https://localhost:8080/"
        },
        "id": "7f817647-eaad-4d68-9af9-222e0dd1b35f",
        "outputId": "a9d959c9-1e47-423a-d3e9-bbc7e38d2e81"
      },
      "outputs": [
        {
          "output_type": "stream",
          "name": "stdout",
          "text": [
            "Found 5001 images belonging to 2 classes.\n"
          ]
        }
      ],
      "source": [
        "## Type your answer here\n",
        "validation_generator = data_generator.flow_from_directory(\n",
        "    'concrete_data_week3/valid',\n",
        "    target_size=(image_resize, image_resize),\n",
        "    batch_size=batch_size_validation,\n",
        "    class_mode='categorical')\n"
      ]
    },
    {
      "cell_type": "markdown",
      "metadata": {
        "id": "1476cd96-ecb1-4670-935b-02ed52346297"
      },
      "source": [
        "Double-click __here__ for the solution.\n",
        "<!-- The correct answer is:\n",
        "validation_generator = data_generator.flow_from_directory(\n",
        "    'concrete_data_week3/valid',\n",
        "    target_size=(image_resize, image_resize),\n",
        "    batch_size=batch_size_validation,\n",
        "    class_mode='categorical')\n",
        "-->\n",
        "\n"
      ]
    },
    {
      "cell_type": "markdown",
      "metadata": {
        "id": "a727fb3f-f7d2-4773-a046-1744692c5f2f"
      },
      "source": [
        "<a id='item35'></a>\n"
      ]
    },
    {
      "cell_type": "markdown",
      "metadata": {
        "id": "b05f3e94-8b47-4637-a60c-226113cb2522"
      },
      "source": [
        "## Build, Compile and Fit Model\n"
      ]
    },
    {
      "cell_type": "markdown",
      "metadata": {
        "id": "25e626fb-98c7-4b08-a06c-b780f6bba9ab"
      },
      "source": [
        "In this section, we will start building our model. We will use the Sequential model class from Keras.\n"
      ]
    },
    {
      "cell_type": "code",
      "execution_count": 10,
      "metadata": {
        "id": "ebd441e7-2c95-4c70-8e21-3643636fc2ea"
      },
      "outputs": [],
      "source": [
        "model = Sequential()"
      ]
    },
    {
      "cell_type": "markdown",
      "metadata": {
        "id": "9b74f39f-5b89-47ff-be05-fca035502ddc"
      },
      "source": [
        "Next, we will add the ResNet50 pre-trained model to out model. However, note that we don't want to include the top layer or the output layer of the pre-trained model. We actually want to define our own output layer and train it so that it is optimized for our image dataset. In order to leave out the output layer of the pre-trained model, we will use the argument *include_top* and set it to **False**.\n"
      ]
    },
    {
      "cell_type": "code",
      "execution_count": 11,
      "metadata": {
        "colab": {
          "base_uri": "https://localhost:8080/"
        },
        "id": "d339754c-09cb-471a-890b-b17ce2e9e433",
        "outputId": "99cf7d5e-3e12-4f21-f360-ce094eef830f"
      },
      "outputs": [
        {
          "output_type": "stream",
          "name": "stdout",
          "text": [
            "Downloading data from https://storage.googleapis.com/tensorflow/keras-applications/resnet/resnet50_weights_tf_dim_ordering_tf_kernels_notop.h5\n",
            "\u001b[1m94765736/94765736\u001b[0m \u001b[32m━━━━━━━━━━━━━━━━━━━━\u001b[0m\u001b[37m\u001b[0m \u001b[1m0s\u001b[0m 0us/step\n"
          ]
        }
      ],
      "source": [
        "model.add(ResNet50(\n",
        "    include_top=False,\n",
        "    pooling='avg',\n",
        "    weights='imagenet',\n",
        "    ))"
      ]
    },
    {
      "cell_type": "markdown",
      "metadata": {
        "id": "9a9a03d8-84e8-49fa-aa58-8d0e20a0ffc5"
      },
      "source": [
        "Then, we will define our output layer as a **Dense** layer, that consists of two nodes and uses the **Softmax** function as the activation function.\n"
      ]
    },
    {
      "cell_type": "code",
      "execution_count": 12,
      "metadata": {
        "id": "206145b8-45f9-43c6-9db6-1ad4bd073d92"
      },
      "outputs": [],
      "source": [
        "model.add(Dense(num_classes, activation='softmax'))"
      ]
    },
    {
      "cell_type": "markdown",
      "metadata": {
        "id": "1c68b992-8724-4884-aa25-d8516faa16bd"
      },
      "source": [
        "You can access the model's layers using the *layers* attribute of our model object.\n"
      ]
    },
    {
      "cell_type": "code",
      "execution_count": 13,
      "metadata": {
        "colab": {
          "base_uri": "https://localhost:8080/"
        },
        "id": "04386088-61ae-48d8-8a71-295e99cd9b5a",
        "outputId": "d0fd904d-9dfc-45b5-e840-7c595f2c705d"
      },
      "outputs": [
        {
          "output_type": "execute_result",
          "data": {
            "text/plain": [
              "[<Functional name=resnet50, built=True>, <Dense name=dense, built=False>]"
            ]
          },
          "metadata": {},
          "execution_count": 13
        }
      ],
      "source": [
        "model.layers"
      ]
    },
    {
      "cell_type": "markdown",
      "metadata": {
        "id": "7cdfa175-97d4-416b-a78f-930f3f971362"
      },
      "source": [
        "You can see that our model is composed of two sets of layers. The first set is the layers pertaining to ResNet50 and the second set is a single layer, which is our Dense layer that we defined above.\n"
      ]
    },
    {
      "cell_type": "markdown",
      "metadata": {
        "id": "7b6eb32d-0c61-4cb6-be0f-15e63ac9945b"
      },
      "source": [
        "You can access the ResNet50 layers by running the following:\n"
      ]
    },
    {
      "cell_type": "code",
      "execution_count": 14,
      "metadata": {
        "colab": {
          "base_uri": "https://localhost:8080/"
        },
        "id": "89b6058d-d5bc-4150-a5c2-8b3000f39865",
        "outputId": "1beb0448-6102-44a0-923c-ad7e77f41eda"
      },
      "outputs": [
        {
          "output_type": "execute_result",
          "data": {
            "text/plain": [
              "[<InputLayer name=input_layer, built=True>,\n",
              " <ZeroPadding2D name=conv1_pad, built=True>,\n",
              " <Conv2D name=conv1_conv, built=True>,\n",
              " <BatchNormalization name=conv1_bn, built=True>,\n",
              " <Activation name=conv1_relu, built=True>,\n",
              " <ZeroPadding2D name=pool1_pad, built=True>,\n",
              " <MaxPooling2D name=pool1_pool, built=True>,\n",
              " <Conv2D name=conv2_block1_1_conv, built=True>,\n",
              " <BatchNormalization name=conv2_block1_1_bn, built=True>,\n",
              " <Activation name=conv2_block1_1_relu, built=True>,\n",
              " <Conv2D name=conv2_block1_2_conv, built=True>,\n",
              " <BatchNormalization name=conv2_block1_2_bn, built=True>,\n",
              " <Activation name=conv2_block1_2_relu, built=True>,\n",
              " <Conv2D name=conv2_block1_0_conv, built=True>,\n",
              " <Conv2D name=conv2_block1_3_conv, built=True>,\n",
              " <BatchNormalization name=conv2_block1_0_bn, built=True>,\n",
              " <BatchNormalization name=conv2_block1_3_bn, built=True>,\n",
              " <Add name=conv2_block1_add, built=True>,\n",
              " <Activation name=conv2_block1_out, built=True>,\n",
              " <Conv2D name=conv2_block2_1_conv, built=True>,\n",
              " <BatchNormalization name=conv2_block2_1_bn, built=True>,\n",
              " <Activation name=conv2_block2_1_relu, built=True>,\n",
              " <Conv2D name=conv2_block2_2_conv, built=True>,\n",
              " <BatchNormalization name=conv2_block2_2_bn, built=True>,\n",
              " <Activation name=conv2_block2_2_relu, built=True>,\n",
              " <Conv2D name=conv2_block2_3_conv, built=True>,\n",
              " <BatchNormalization name=conv2_block2_3_bn, built=True>,\n",
              " <Add name=conv2_block2_add, built=True>,\n",
              " <Activation name=conv2_block2_out, built=True>,\n",
              " <Conv2D name=conv2_block3_1_conv, built=True>,\n",
              " <BatchNormalization name=conv2_block3_1_bn, built=True>,\n",
              " <Activation name=conv2_block3_1_relu, built=True>,\n",
              " <Conv2D name=conv2_block3_2_conv, built=True>,\n",
              " <BatchNormalization name=conv2_block3_2_bn, built=True>,\n",
              " <Activation name=conv2_block3_2_relu, built=True>,\n",
              " <Conv2D name=conv2_block3_3_conv, built=True>,\n",
              " <BatchNormalization name=conv2_block3_3_bn, built=True>,\n",
              " <Add name=conv2_block3_add, built=True>,\n",
              " <Activation name=conv2_block3_out, built=True>,\n",
              " <Conv2D name=conv3_block1_1_conv, built=True>,\n",
              " <BatchNormalization name=conv3_block1_1_bn, built=True>,\n",
              " <Activation name=conv3_block1_1_relu, built=True>,\n",
              " <Conv2D name=conv3_block1_2_conv, built=True>,\n",
              " <BatchNormalization name=conv3_block1_2_bn, built=True>,\n",
              " <Activation name=conv3_block1_2_relu, built=True>,\n",
              " <Conv2D name=conv3_block1_0_conv, built=True>,\n",
              " <Conv2D name=conv3_block1_3_conv, built=True>,\n",
              " <BatchNormalization name=conv3_block1_0_bn, built=True>,\n",
              " <BatchNormalization name=conv3_block1_3_bn, built=True>,\n",
              " <Add name=conv3_block1_add, built=True>,\n",
              " <Activation name=conv3_block1_out, built=True>,\n",
              " <Conv2D name=conv3_block2_1_conv, built=True>,\n",
              " <BatchNormalization name=conv3_block2_1_bn, built=True>,\n",
              " <Activation name=conv3_block2_1_relu, built=True>,\n",
              " <Conv2D name=conv3_block2_2_conv, built=True>,\n",
              " <BatchNormalization name=conv3_block2_2_bn, built=True>,\n",
              " <Activation name=conv3_block2_2_relu, built=True>,\n",
              " <Conv2D name=conv3_block2_3_conv, built=True>,\n",
              " <BatchNormalization name=conv3_block2_3_bn, built=True>,\n",
              " <Add name=conv3_block2_add, built=True>,\n",
              " <Activation name=conv3_block2_out, built=True>,\n",
              " <Conv2D name=conv3_block3_1_conv, built=True>,\n",
              " <BatchNormalization name=conv3_block3_1_bn, built=True>,\n",
              " <Activation name=conv3_block3_1_relu, built=True>,\n",
              " <Conv2D name=conv3_block3_2_conv, built=True>,\n",
              " <BatchNormalization name=conv3_block3_2_bn, built=True>,\n",
              " <Activation name=conv3_block3_2_relu, built=True>,\n",
              " <Conv2D name=conv3_block3_3_conv, built=True>,\n",
              " <BatchNormalization name=conv3_block3_3_bn, built=True>,\n",
              " <Add name=conv3_block3_add, built=True>,\n",
              " <Activation name=conv3_block3_out, built=True>,\n",
              " <Conv2D name=conv3_block4_1_conv, built=True>,\n",
              " <BatchNormalization name=conv3_block4_1_bn, built=True>,\n",
              " <Activation name=conv3_block4_1_relu, built=True>,\n",
              " <Conv2D name=conv3_block4_2_conv, built=True>,\n",
              " <BatchNormalization name=conv3_block4_2_bn, built=True>,\n",
              " <Activation name=conv3_block4_2_relu, built=True>,\n",
              " <Conv2D name=conv3_block4_3_conv, built=True>,\n",
              " <BatchNormalization name=conv3_block4_3_bn, built=True>,\n",
              " <Add name=conv3_block4_add, built=True>,\n",
              " <Activation name=conv3_block4_out, built=True>,\n",
              " <Conv2D name=conv4_block1_1_conv, built=True>,\n",
              " <BatchNormalization name=conv4_block1_1_bn, built=True>,\n",
              " <Activation name=conv4_block1_1_relu, built=True>,\n",
              " <Conv2D name=conv4_block1_2_conv, built=True>,\n",
              " <BatchNormalization name=conv4_block1_2_bn, built=True>,\n",
              " <Activation name=conv4_block1_2_relu, built=True>,\n",
              " <Conv2D name=conv4_block1_0_conv, built=True>,\n",
              " <Conv2D name=conv4_block1_3_conv, built=True>,\n",
              " <BatchNormalization name=conv4_block1_0_bn, built=True>,\n",
              " <BatchNormalization name=conv4_block1_3_bn, built=True>,\n",
              " <Add name=conv4_block1_add, built=True>,\n",
              " <Activation name=conv4_block1_out, built=True>,\n",
              " <Conv2D name=conv4_block2_1_conv, built=True>,\n",
              " <BatchNormalization name=conv4_block2_1_bn, built=True>,\n",
              " <Activation name=conv4_block2_1_relu, built=True>,\n",
              " <Conv2D name=conv4_block2_2_conv, built=True>,\n",
              " <BatchNormalization name=conv4_block2_2_bn, built=True>,\n",
              " <Activation name=conv4_block2_2_relu, built=True>,\n",
              " <Conv2D name=conv4_block2_3_conv, built=True>,\n",
              " <BatchNormalization name=conv4_block2_3_bn, built=True>,\n",
              " <Add name=conv4_block2_add, built=True>,\n",
              " <Activation name=conv4_block2_out, built=True>,\n",
              " <Conv2D name=conv4_block3_1_conv, built=True>,\n",
              " <BatchNormalization name=conv4_block3_1_bn, built=True>,\n",
              " <Activation name=conv4_block3_1_relu, built=True>,\n",
              " <Conv2D name=conv4_block3_2_conv, built=True>,\n",
              " <BatchNormalization name=conv4_block3_2_bn, built=True>,\n",
              " <Activation name=conv4_block3_2_relu, built=True>,\n",
              " <Conv2D name=conv4_block3_3_conv, built=True>,\n",
              " <BatchNormalization name=conv4_block3_3_bn, built=True>,\n",
              " <Add name=conv4_block3_add, built=True>,\n",
              " <Activation name=conv4_block3_out, built=True>,\n",
              " <Conv2D name=conv4_block4_1_conv, built=True>,\n",
              " <BatchNormalization name=conv4_block4_1_bn, built=True>,\n",
              " <Activation name=conv4_block4_1_relu, built=True>,\n",
              " <Conv2D name=conv4_block4_2_conv, built=True>,\n",
              " <BatchNormalization name=conv4_block4_2_bn, built=True>,\n",
              " <Activation name=conv4_block4_2_relu, built=True>,\n",
              " <Conv2D name=conv4_block4_3_conv, built=True>,\n",
              " <BatchNormalization name=conv4_block4_3_bn, built=True>,\n",
              " <Add name=conv4_block4_add, built=True>,\n",
              " <Activation name=conv4_block4_out, built=True>,\n",
              " <Conv2D name=conv4_block5_1_conv, built=True>,\n",
              " <BatchNormalization name=conv4_block5_1_bn, built=True>,\n",
              " <Activation name=conv4_block5_1_relu, built=True>,\n",
              " <Conv2D name=conv4_block5_2_conv, built=True>,\n",
              " <BatchNormalization name=conv4_block5_2_bn, built=True>,\n",
              " <Activation name=conv4_block5_2_relu, built=True>,\n",
              " <Conv2D name=conv4_block5_3_conv, built=True>,\n",
              " <BatchNormalization name=conv4_block5_3_bn, built=True>,\n",
              " <Add name=conv4_block5_add, built=True>,\n",
              " <Activation name=conv4_block5_out, built=True>,\n",
              " <Conv2D name=conv4_block6_1_conv, built=True>,\n",
              " <BatchNormalization name=conv4_block6_1_bn, built=True>,\n",
              " <Activation name=conv4_block6_1_relu, built=True>,\n",
              " <Conv2D name=conv4_block6_2_conv, built=True>,\n",
              " <BatchNormalization name=conv4_block6_2_bn, built=True>,\n",
              " <Activation name=conv4_block6_2_relu, built=True>,\n",
              " <Conv2D name=conv4_block6_3_conv, built=True>,\n",
              " <BatchNormalization name=conv4_block6_3_bn, built=True>,\n",
              " <Add name=conv4_block6_add, built=True>,\n",
              " <Activation name=conv4_block6_out, built=True>,\n",
              " <Conv2D name=conv5_block1_1_conv, built=True>,\n",
              " <BatchNormalization name=conv5_block1_1_bn, built=True>,\n",
              " <Activation name=conv5_block1_1_relu, built=True>,\n",
              " <Conv2D name=conv5_block1_2_conv, built=True>,\n",
              " <BatchNormalization name=conv5_block1_2_bn, built=True>,\n",
              " <Activation name=conv5_block1_2_relu, built=True>,\n",
              " <Conv2D name=conv5_block1_0_conv, built=True>,\n",
              " <Conv2D name=conv5_block1_3_conv, built=True>,\n",
              " <BatchNormalization name=conv5_block1_0_bn, built=True>,\n",
              " <BatchNormalization name=conv5_block1_3_bn, built=True>,\n",
              " <Add name=conv5_block1_add, built=True>,\n",
              " <Activation name=conv5_block1_out, built=True>,\n",
              " <Conv2D name=conv5_block2_1_conv, built=True>,\n",
              " <BatchNormalization name=conv5_block2_1_bn, built=True>,\n",
              " <Activation name=conv5_block2_1_relu, built=True>,\n",
              " <Conv2D name=conv5_block2_2_conv, built=True>,\n",
              " <BatchNormalization name=conv5_block2_2_bn, built=True>,\n",
              " <Activation name=conv5_block2_2_relu, built=True>,\n",
              " <Conv2D name=conv5_block2_3_conv, built=True>,\n",
              " <BatchNormalization name=conv5_block2_3_bn, built=True>,\n",
              " <Add name=conv5_block2_add, built=True>,\n",
              " <Activation name=conv5_block2_out, built=True>,\n",
              " <Conv2D name=conv5_block3_1_conv, built=True>,\n",
              " <BatchNormalization name=conv5_block3_1_bn, built=True>,\n",
              " <Activation name=conv5_block3_1_relu, built=True>,\n",
              " <Conv2D name=conv5_block3_2_conv, built=True>,\n",
              " <BatchNormalization name=conv5_block3_2_bn, built=True>,\n",
              " <Activation name=conv5_block3_2_relu, built=True>,\n",
              " <Conv2D name=conv5_block3_3_conv, built=True>,\n",
              " <BatchNormalization name=conv5_block3_3_bn, built=True>,\n",
              " <Add name=conv5_block3_add, built=True>,\n",
              " <Activation name=conv5_block3_out, built=True>,\n",
              " <GlobalAveragePooling2D name=avg_pool, built=True>]"
            ]
          },
          "metadata": {},
          "execution_count": 14
        }
      ],
      "source": [
        "model.layers[0].layers"
      ]
    },
    {
      "cell_type": "markdown",
      "metadata": {
        "id": "ec6a949d-86d5-4b23-a165-f5545012da44"
      },
      "source": [
        "Since the ResNet50 model has already been trained, then we want to tell our model not to bother with training the ResNet part, but to train only our dense output layer. To do that, we run the following.\n"
      ]
    },
    {
      "cell_type": "code",
      "execution_count": 15,
      "metadata": {
        "id": "8d3dddb1-6c60-4909-8781-43bbe3f49614"
      },
      "outputs": [],
      "source": [
        "model.layers[0].trainable = False"
      ]
    },
    {
      "cell_type": "markdown",
      "metadata": {
        "id": "b2f75fd6-fc93-474d-8606-4e2215bcdebe"
      },
      "source": [
        "And now using the *summary* attribute of the model, we can see how many parameters we will need to optimize in order to train the output layer.\n"
      ]
    },
    {
      "cell_type": "code",
      "execution_count": 16,
      "metadata": {
        "colab": {
          "base_uri": "https://localhost:8080/",
          "height": 304
        },
        "id": "8cdba85e-ea71-4b92-8aec-9073aa24f74d",
        "outputId": "9840f32d-9b68-4aaf-8b4e-bb48af0a62ca"
      },
      "outputs": [
        {
          "output_type": "error",
          "ename": "ValueError",
          "evalue": "Undefined shapes are not supported.",
          "traceback": [
            "\u001b[0;31m---------------------------------------------------------------------------\u001b[0m",
            "\u001b[0;31mValueError\u001b[0m                                Traceback (most recent call last)",
            "\u001b[0;32m<ipython-input-16-5f15418b3570>\u001b[0m in \u001b[0;36m<cell line: 1>\u001b[0;34m()\u001b[0m\n\u001b[0;32m----> 1\u001b[0;31m \u001b[0mmodel\u001b[0m\u001b[0;34m.\u001b[0m\u001b[0msummary\u001b[0m\u001b[0;34m(\u001b[0m\u001b[0;34m)\u001b[0m\u001b[0;34m\u001b[0m\u001b[0;34m\u001b[0m\u001b[0m\n\u001b[0m",
            "\u001b[0;32m/usr/local/lib/python3.10/dist-packages/keras/src/utils/traceback_utils.py\u001b[0m in \u001b[0;36merror_handler\u001b[0;34m(*args, **kwargs)\u001b[0m\n\u001b[1;32m    120\u001b[0m             \u001b[0;31m# To get the full stack trace, call:\u001b[0m\u001b[0;34m\u001b[0m\u001b[0;34m\u001b[0m\u001b[0m\n\u001b[1;32m    121\u001b[0m             \u001b[0;31m# `keras.config.disable_traceback_filtering()`\u001b[0m\u001b[0;34m\u001b[0m\u001b[0;34m\u001b[0m\u001b[0m\n\u001b[0;32m--> 122\u001b[0;31m             \u001b[0;32mraise\u001b[0m \u001b[0me\u001b[0m\u001b[0;34m.\u001b[0m\u001b[0mwith_traceback\u001b[0m\u001b[0;34m(\u001b[0m\u001b[0mfiltered_tb\u001b[0m\u001b[0;34m)\u001b[0m \u001b[0;32mfrom\u001b[0m \u001b[0;32mNone\u001b[0m\u001b[0;34m\u001b[0m\u001b[0;34m\u001b[0m\u001b[0m\n\u001b[0m\u001b[1;32m    123\u001b[0m         \u001b[0;32mfinally\u001b[0m\u001b[0;34m:\u001b[0m\u001b[0;34m\u001b[0m\u001b[0;34m\u001b[0m\u001b[0m\n\u001b[1;32m    124\u001b[0m             \u001b[0;32mdel\u001b[0m \u001b[0mfiltered_tb\u001b[0m\u001b[0;34m\u001b[0m\u001b[0;34m\u001b[0m\u001b[0m\n",
            "\u001b[0;32m/usr/local/lib/python3.10/dist-packages/optree/ops.py\u001b[0m in \u001b[0;36mtree_map\u001b[0;34m(func, tree, is_leaf, none_is_leaf, namespace, *rests)\u001b[0m\n\u001b[1;32m    745\u001b[0m     \u001b[0mleaves\u001b[0m\u001b[0;34m,\u001b[0m \u001b[0mtreespec\u001b[0m \u001b[0;34m=\u001b[0m \u001b[0m_C\u001b[0m\u001b[0;34m.\u001b[0m\u001b[0mflatten\u001b[0m\u001b[0;34m(\u001b[0m\u001b[0mtree\u001b[0m\u001b[0;34m,\u001b[0m \u001b[0mis_leaf\u001b[0m\u001b[0;34m,\u001b[0m \u001b[0mnone_is_leaf\u001b[0m\u001b[0;34m,\u001b[0m \u001b[0mnamespace\u001b[0m\u001b[0;34m)\u001b[0m\u001b[0;34m\u001b[0m\u001b[0;34m\u001b[0m\u001b[0m\n\u001b[1;32m    746\u001b[0m     \u001b[0mflat_args\u001b[0m \u001b[0;34m=\u001b[0m \u001b[0;34m[\u001b[0m\u001b[0mleaves\u001b[0m\u001b[0;34m]\u001b[0m \u001b[0;34m+\u001b[0m \u001b[0;34m[\u001b[0m\u001b[0mtreespec\u001b[0m\u001b[0;34m.\u001b[0m\u001b[0mflatten_up_to\u001b[0m\u001b[0;34m(\u001b[0m\u001b[0mr\u001b[0m\u001b[0;34m)\u001b[0m \u001b[0;32mfor\u001b[0m \u001b[0mr\u001b[0m \u001b[0;32min\u001b[0m \u001b[0mrests\u001b[0m\u001b[0;34m]\u001b[0m\u001b[0;34m\u001b[0m\u001b[0;34m\u001b[0m\u001b[0m\n\u001b[0;32m--> 747\u001b[0;31m     \u001b[0;32mreturn\u001b[0m \u001b[0mtreespec\u001b[0m\u001b[0;34m.\u001b[0m\u001b[0munflatten\u001b[0m\u001b[0;34m(\u001b[0m\u001b[0mmap\u001b[0m\u001b[0;34m(\u001b[0m\u001b[0mfunc\u001b[0m\u001b[0;34m,\u001b[0m \u001b[0;34m*\u001b[0m\u001b[0mflat_args\u001b[0m\u001b[0;34m)\u001b[0m\u001b[0;34m)\u001b[0m\u001b[0;34m\u001b[0m\u001b[0;34m\u001b[0m\u001b[0m\n\u001b[0m\u001b[1;32m    748\u001b[0m \u001b[0;34m\u001b[0m\u001b[0m\n\u001b[1;32m    749\u001b[0m \u001b[0;34m\u001b[0m\u001b[0m\n",
            "\u001b[0;31mValueError\u001b[0m: Undefined shapes are not supported."
          ]
        }
      ],
      "source": [
        "model.summary()"
      ]
    },
    {
      "cell_type": "markdown",
      "metadata": {
        "id": "faab0ab4-bf53-418b-b257-2dd759ed5af7"
      },
      "source": [
        "Next we compile our model using the **adam** optimizer.\n"
      ]
    },
    {
      "cell_type": "code",
      "execution_count": 17,
      "metadata": {
        "id": "d0a432df-923b-4342-9b80-40f56b26c3c8"
      },
      "outputs": [],
      "source": [
        "model.compile(optimizer='adam', loss='categorical_crossentropy', metrics=['accuracy'])"
      ]
    },
    {
      "cell_type": "markdown",
      "metadata": {
        "id": "3d4e333b-01f8-42e0-beb8-c7d324714a09"
      },
      "source": [
        "Before we are able to start the training process, with an ImageDataGenerator, we will need to define how many steps compose an epoch. Typically, that is the number of images divided by the batch size. Therefore, we define our steps per epoch as follows:\n"
      ]
    },
    {
      "cell_type": "code",
      "execution_count": 18,
      "metadata": {
        "id": "db8c3174-911e-48e6-9328-afd9f22d7e8d"
      },
      "outputs": [],
      "source": [
        "steps_per_epoch_training = len(train_generator)\n",
        "steps_per_epoch_validation = len(validation_generator)\n",
        "num_epochs = 2"
      ]
    },
    {
      "cell_type": "markdown",
      "metadata": {
        "id": "048afe9b-09e2-48e2-a656-6d535868ac2c"
      },
      "source": [
        "Finally, we are ready to start training our model. Unlike a conventional deep learning training were data is not streamed from a directory, with an ImageDataGenerator where data is augmented in batches, we use the **fit_generator** method.\n"
      ]
    },
    {
      "cell_type": "code",
      "execution_count": 19,
      "metadata": {
        "colab": {
          "base_uri": "https://localhost:8080/"
        },
        "id": "4f02c9e7-7606-407a-b257-981c89ee1b76",
        "outputId": "c0ffb00b-4525-47dc-a939-642dc3872702"
      },
      "outputs": [
        {
          "output_type": "stream",
          "name": "stdout",
          "text": [
            "Epoch 1/2\n"
          ]
        },
        {
          "output_type": "stream",
          "name": "stderr",
          "text": [
            "/usr/local/lib/python3.10/dist-packages/keras/src/trainers/data_adapters/py_dataset_adapter.py:121: UserWarning: Your `PyDataset` class should call `super().__init__(**kwargs)` in its constructor. `**kwargs` can include `workers`, `use_multiprocessing`, `max_queue_size`. Do not pass these arguments to `fit()`, as they will be ignored.\n",
            "  self._warn_if_super_not_called()\n"
          ]
        },
        {
          "output_type": "stream",
          "name": "stdout",
          "text": [
            "\u001b[1m101/101\u001b[0m \u001b[32m━━━━━━━━━━━━━━━━━━━━\u001b[0m\u001b[37m\u001b[0m \u001b[1m2545s\u001b[0m 25s/step - accuracy: 0.9698 - loss: 0.0872 - val_accuracy: 0.9960 - val_loss: 0.0112\n",
            "Epoch 2/2\n",
            "\u001b[1m101/101\u001b[0m \u001b[32m━━━━━━━━━━━━━━━━━━━━\u001b[0m\u001b[37m\u001b[0m \u001b[1m2533s\u001b[0m 25s/step - accuracy: 0.9987 - loss: 0.0064 - val_accuracy: 0.9976 - val_loss: 0.0083\n"
          ]
        }
      ],
      "source": [
        "fit_history = model.fit(\n",
        "    train_generator,\n",
        "\n",
        "    epochs=num_epochs,\n",
        "    validation_data=validation_generator,\n",
        "\n",
        "    verbose=1,\n",
        ")"
      ]
    },
    {
      "cell_type": "markdown",
      "metadata": {
        "id": "eae128d1-021f-449a-baba-1b94a6c567eb"
      },
      "source": [
        "Now that the model is trained, you are ready to start using it to classify images.\n"
      ]
    },
    {
      "cell_type": "markdown",
      "metadata": {
        "id": "e6225725-15d5-47c5-a8f0-32b5a258695f"
      },
      "source": [
        "Since training can take a long time when building deep learning models, it is always a good idea to save your model once the training is complete if you believe you will be using the model again later. You will be using this model in the next module, so go ahead and save your model.\n"
      ]
    },
    {
      "cell_type": "code",
      "execution_count": 21,
      "metadata": {
        "id": "4498940f-4bfe-46e7-b37f-c349c29c4c3b"
      },
      "outputs": [],
      "source": [
        "model.save('classifier_resnet_model.keras')"
      ]
    },
    {
      "cell_type": "markdown",
      "metadata": {
        "id": "fb0bb753-a207-4d53-b452-73dd3c55014b"
      },
      "source": [
        "Now, you should see the model file *classifier_resnet_model.h5* apprear in the left directory pane.\n"
      ]
    },
    {
      "cell_type": "markdown",
      "metadata": {
        "id": "d197a4f2-fbc4-44a1-a2fa-d7d548cd2d01"
      },
      "source": [
        "### Thank you for completing this lab!\n",
        "\n",
        "This notebook was created by Alex Aklson. I hope you found this lab interesting and educational.\n"
      ]
    },
    {
      "cell_type": "markdown",
      "metadata": {
        "id": "9145ebcc-2a74-4ec9-901a-3d9bf7ff7f2f"
      },
      "source": [
        "This notebook is part of a course on **Coursera** called *AI Capstone Project with Deep Learning*. If you accessed this notebook outside the course, you can take this course online by clicking [here](https://cocl.us/DL0321EN_Coursera_Week3_LAB1).\n"
      ]
    },
    {
      "cell_type": "markdown",
      "metadata": {
        "id": "280eedc9-9bde-4d5d-8358-1c144f18baeb"
      },
      "source": [
        "\n",
        "## Change Log\n",
        "\n",
        "|  Date (YYYY-MM-DD) |  Version | Changed By  |  Change Description |\n",
        "|---|---|---|---|\n",
        "| 2020-09-18  | 2.0  | Shubham  |  Migrated Lab to Markdown and added to course repo in GitLab |\n",
        "| 2023-01-03  | 3.0  | Artem |  Updated the file import section|\n",
        "\n"
      ]
    },
    {
      "cell_type": "markdown",
      "metadata": {
        "id": "d975b95f-2884-45db-acf0-5398957793d1"
      },
      "source": [
        "<hr>\n",
        "\n",
        "Copyright &copy; 2020 [IBM Developer Skills Network](https://cognitiveclass.ai/?utm_source=bducopyrightlink&utm_medium=dswb&utm_campaign=bdu). This notebook and its source code are released under the terms of the [MIT License](https://bigdatauniversity.com/mit-license/).\n"
      ]
    }
  ],
  "metadata": {
    "accelerator": "GPU",
    "colab": {
      "gpuType": "T4",
      "provenance": [],
      "include_colab_link": true
    },
    "kernelspec": {
      "display_name": "Python",
      "language": "python",
      "name": "conda-env-python-py"
    },
    "language_info": {
      "codemirror_mode": {
        "name": "ipython",
        "version": 3
      },
      "file_extension": ".py",
      "mimetype": "text/x-python",
      "name": "python",
      "nbconvert_exporter": "python",
      "pygments_lexer": "ipython3",
      "version": "3.7.12"
    },
    "prev_pub_hash": "cf2970a1d2c549fe86023eaa076d0ce4936c4275baf2cccfdad8fe6ce3a8a6c2",
    "widgets": {
      "application/vnd.jupyter.widget-state+json": {
        "87d673fd462647a390a954076903e1ce": {
          "model_module": "@jupyter-widgets/controls",
          "model_name": "HBoxModel",
          "model_module_version": "2.0.0",
          "state": {
            "_dom_classes": [],
            "_model_module": "@jupyter-widgets/controls",
            "_model_module_version": "2.0.0",
            "_model_name": "HBoxModel",
            "_view_count": null,
            "_view_module": "@jupyter-widgets/controls",
            "_view_module_version": "2.0.0",
            "_view_name": "HBoxView",
            "box_style": "",
            "children": [
              "IPY_MODEL_adad8cbdea474f049f37cec024203b47",
              "IPY_MODEL_90649c23e869427dbc51bd7ae325a3d7",
              "IPY_MODEL_4fbe0a13150048a09feba5742706d78f"
            ],
            "layout": "IPY_MODEL_1601cb0cc632495189c45b4918af8376",
            "tabbable": null,
            "tooltip": null
          }
        },
        "adad8cbdea474f049f37cec024203b47": {
          "model_module": "@jupyter-widgets/controls",
          "model_name": "HTMLModel",
          "model_module_version": "2.0.0",
          "state": {
            "_dom_classes": [],
            "_model_module": "@jupyter-widgets/controls",
            "_model_module_version": "2.0.0",
            "_model_name": "HTMLModel",
            "_view_count": null,
            "_view_module": "@jupyter-widgets/controls",
            "_view_module_version": "2.0.0",
            "_view_name": "HTMLView",
            "description": "",
            "description_allow_html": false,
            "layout": "IPY_MODEL_b16fc74d7ee442cf855aaa8193467fa3",
            "placeholder": "​",
            "style": "IPY_MODEL_b106d59ba4b84620b105c956676a9e68",
            "tabbable": null,
            "tooltip": null,
            "value": "Downloading concrete_data_week3.zip: 100%"
          }
        },
        "90649c23e869427dbc51bd7ae325a3d7": {
          "model_module": "@jupyter-widgets/controls",
          "model_name": "FloatProgressModel",
          "model_module_version": "2.0.0",
          "state": {
            "_dom_classes": [],
            "_model_module": "@jupyter-widgets/controls",
            "_model_module_version": "2.0.0",
            "_model_name": "FloatProgressModel",
            "_view_count": null,
            "_view_module": "@jupyter-widgets/controls",
            "_view_module_version": "2.0.0",
            "_view_name": "ProgressView",
            "bar_style": "success",
            "description": "",
            "description_allow_html": false,
            "layout": "IPY_MODEL_38844e900417488586fe20fb6129bfb6",
            "max": 97863179,
            "min": 0,
            "orientation": "horizontal",
            "style": "IPY_MODEL_9d545af948e44f5d90d7cc1061cdc752",
            "tabbable": null,
            "tooltip": null,
            "value": 97863179
          }
        },
        "4fbe0a13150048a09feba5742706d78f": {
          "model_module": "@jupyter-widgets/controls",
          "model_name": "HTMLModel",
          "model_module_version": "2.0.0",
          "state": {
            "_dom_classes": [],
            "_model_module": "@jupyter-widgets/controls",
            "_model_module_version": "2.0.0",
            "_model_name": "HTMLModel",
            "_view_count": null,
            "_view_module": "@jupyter-widgets/controls",
            "_view_module_version": "2.0.0",
            "_view_name": "HTMLView",
            "description": "",
            "description_allow_html": false,
            "layout": "IPY_MODEL_3562f12918424f9e949b8abfa3def200",
            "placeholder": "​",
            "style": "IPY_MODEL_17647042824040d9b0b41328948e242c",
            "tabbable": null,
            "tooltip": null,
            "value": " 97863179/97863179 [00:02&lt;00:00, 42581902.01it/s]"
          }
        },
        "1601cb0cc632495189c45b4918af8376": {
          "model_module": "@jupyter-widgets/base",
          "model_name": "LayoutModel",
          "model_module_version": "2.0.0",
          "state": {
            "_model_module": "@jupyter-widgets/base",
            "_model_module_version": "2.0.0",
            "_model_name": "LayoutModel",
            "_view_count": null,
            "_view_module": "@jupyter-widgets/base",
            "_view_module_version": "2.0.0",
            "_view_name": "LayoutView",
            "align_content": null,
            "align_items": null,
            "align_self": null,
            "border_bottom": null,
            "border_left": null,
            "border_right": null,
            "border_top": null,
            "bottom": null,
            "display": null,
            "flex": null,
            "flex_flow": null,
            "grid_area": null,
            "grid_auto_columns": null,
            "grid_auto_flow": null,
            "grid_auto_rows": null,
            "grid_column": null,
            "grid_gap": null,
            "grid_row": null,
            "grid_template_areas": null,
            "grid_template_columns": null,
            "grid_template_rows": null,
            "height": null,
            "justify_content": null,
            "justify_items": null,
            "left": null,
            "margin": null,
            "max_height": null,
            "max_width": null,
            "min_height": null,
            "min_width": null,
            "object_fit": null,
            "object_position": null,
            "order": null,
            "overflow": null,
            "padding": null,
            "right": null,
            "top": null,
            "visibility": null,
            "width": null
          }
        },
        "b16fc74d7ee442cf855aaa8193467fa3": {
          "model_module": "@jupyter-widgets/base",
          "model_name": "LayoutModel",
          "model_module_version": "2.0.0",
          "state": {
            "_model_module": "@jupyter-widgets/base",
            "_model_module_version": "2.0.0",
            "_model_name": "LayoutModel",
            "_view_count": null,
            "_view_module": "@jupyter-widgets/base",
            "_view_module_version": "2.0.0",
            "_view_name": "LayoutView",
            "align_content": null,
            "align_items": null,
            "align_self": null,
            "border_bottom": null,
            "border_left": null,
            "border_right": null,
            "border_top": null,
            "bottom": null,
            "display": null,
            "flex": null,
            "flex_flow": null,
            "grid_area": null,
            "grid_auto_columns": null,
            "grid_auto_flow": null,
            "grid_auto_rows": null,
            "grid_column": null,
            "grid_gap": null,
            "grid_row": null,
            "grid_template_areas": null,
            "grid_template_columns": null,
            "grid_template_rows": null,
            "height": null,
            "justify_content": null,
            "justify_items": null,
            "left": null,
            "margin": null,
            "max_height": null,
            "max_width": null,
            "min_height": null,
            "min_width": null,
            "object_fit": null,
            "object_position": null,
            "order": null,
            "overflow": null,
            "padding": null,
            "right": null,
            "top": null,
            "visibility": null,
            "width": null
          }
        },
        "b106d59ba4b84620b105c956676a9e68": {
          "model_module": "@jupyter-widgets/controls",
          "model_name": "HTMLStyleModel",
          "model_module_version": "2.0.0",
          "state": {
            "_model_module": "@jupyter-widgets/controls",
            "_model_module_version": "2.0.0",
            "_model_name": "HTMLStyleModel",
            "_view_count": null,
            "_view_module": "@jupyter-widgets/base",
            "_view_module_version": "2.0.0",
            "_view_name": "StyleView",
            "background": null,
            "description_width": "",
            "font_size": null,
            "text_color": null
          }
        },
        "38844e900417488586fe20fb6129bfb6": {
          "model_module": "@jupyter-widgets/base",
          "model_name": "LayoutModel",
          "model_module_version": "2.0.0",
          "state": {
            "_model_module": "@jupyter-widgets/base",
            "_model_module_version": "2.0.0",
            "_model_name": "LayoutModel",
            "_view_count": null,
            "_view_module": "@jupyter-widgets/base",
            "_view_module_version": "2.0.0",
            "_view_name": "LayoutView",
            "align_content": null,
            "align_items": null,
            "align_self": null,
            "border_bottom": null,
            "border_left": null,
            "border_right": null,
            "border_top": null,
            "bottom": null,
            "display": null,
            "flex": null,
            "flex_flow": null,
            "grid_area": null,
            "grid_auto_columns": null,
            "grid_auto_flow": null,
            "grid_auto_rows": null,
            "grid_column": null,
            "grid_gap": null,
            "grid_row": null,
            "grid_template_areas": null,
            "grid_template_columns": null,
            "grid_template_rows": null,
            "height": null,
            "justify_content": null,
            "justify_items": null,
            "left": null,
            "margin": null,
            "max_height": null,
            "max_width": null,
            "min_height": null,
            "min_width": null,
            "object_fit": null,
            "object_position": null,
            "order": null,
            "overflow": null,
            "padding": null,
            "right": null,
            "top": null,
            "visibility": null,
            "width": null
          }
        },
        "9d545af948e44f5d90d7cc1061cdc752": {
          "model_module": "@jupyter-widgets/controls",
          "model_name": "ProgressStyleModel",
          "model_module_version": "2.0.0",
          "state": {
            "_model_module": "@jupyter-widgets/controls",
            "_model_module_version": "2.0.0",
            "_model_name": "ProgressStyleModel",
            "_view_count": null,
            "_view_module": "@jupyter-widgets/base",
            "_view_module_version": "2.0.0",
            "_view_name": "StyleView",
            "bar_color": null,
            "description_width": ""
          }
        },
        "3562f12918424f9e949b8abfa3def200": {
          "model_module": "@jupyter-widgets/base",
          "model_name": "LayoutModel",
          "model_module_version": "2.0.0",
          "state": {
            "_model_module": "@jupyter-widgets/base",
            "_model_module_version": "2.0.0",
            "_model_name": "LayoutModel",
            "_view_count": null,
            "_view_module": "@jupyter-widgets/base",
            "_view_module_version": "2.0.0",
            "_view_name": "LayoutView",
            "align_content": null,
            "align_items": null,
            "align_self": null,
            "border_bottom": null,
            "border_left": null,
            "border_right": null,
            "border_top": null,
            "bottom": null,
            "display": null,
            "flex": null,
            "flex_flow": null,
            "grid_area": null,
            "grid_auto_columns": null,
            "grid_auto_flow": null,
            "grid_auto_rows": null,
            "grid_column": null,
            "grid_gap": null,
            "grid_row": null,
            "grid_template_areas": null,
            "grid_template_columns": null,
            "grid_template_rows": null,
            "height": null,
            "justify_content": null,
            "justify_items": null,
            "left": null,
            "margin": null,
            "max_height": null,
            "max_width": null,
            "min_height": null,
            "min_width": null,
            "object_fit": null,
            "object_position": null,
            "order": null,
            "overflow": null,
            "padding": null,
            "right": null,
            "top": null,
            "visibility": null,
            "width": null
          }
        },
        "17647042824040d9b0b41328948e242c": {
          "model_module": "@jupyter-widgets/controls",
          "model_name": "HTMLStyleModel",
          "model_module_version": "2.0.0",
          "state": {
            "_model_module": "@jupyter-widgets/controls",
            "_model_module_version": "2.0.0",
            "_model_name": "HTMLStyleModel",
            "_view_count": null,
            "_view_module": "@jupyter-widgets/base",
            "_view_module_version": "2.0.0",
            "_view_name": "StyleView",
            "background": null,
            "description_width": "",
            "font_size": null,
            "text_color": null
          }
        },
        "d0d768e4abd742279397ea107a4b0e14": {
          "model_module": "@jupyter-widgets/controls",
          "model_name": "HBoxModel",
          "model_module_version": "2.0.0",
          "state": {
            "_dom_classes": [],
            "_model_module": "@jupyter-widgets/controls",
            "_model_module_version": "2.0.0",
            "_model_name": "HBoxModel",
            "_view_count": null,
            "_view_module": "@jupyter-widgets/controls",
            "_view_module_version": "2.0.0",
            "_view_name": "HBoxView",
            "box_style": "",
            "children": [
              "IPY_MODEL_1b3e6c37431c4f35b3174dba27fcbc4b",
              "IPY_MODEL_6b920a4b0ef4419ea10390a33f91caee",
              "IPY_MODEL_f78d7b74ac3b4eebbde1d2f67c038bf1"
            ],
            "layout": "IPY_MODEL_2fe3dd320c0749c4a9e21a8725240f82",
            "tabbable": null,
            "tooltip": null
          }
        },
        "1b3e6c37431c4f35b3174dba27fcbc4b": {
          "model_module": "@jupyter-widgets/controls",
          "model_name": "HTMLModel",
          "model_module_version": "2.0.0",
          "state": {
            "_dom_classes": [],
            "_model_module": "@jupyter-widgets/controls",
            "_model_module_version": "2.0.0",
            "_model_name": "HTMLModel",
            "_view_count": null,
            "_view_module": "@jupyter-widgets/controls",
            "_view_module_version": "2.0.0",
            "_view_name": "HTMLView",
            "description": "",
            "description_allow_html": false,
            "layout": "IPY_MODEL_23deba1ddd0042fa8d92a7165070dc1a",
            "placeholder": "​",
            "style": "IPY_MODEL_3c186200034d4e47859586b52fbe8584",
            "tabbable": null,
            "tooltip": null,
            "value": "Extracting concrete_data_week3.zip: 100%"
          }
        },
        "6b920a4b0ef4419ea10390a33f91caee": {
          "model_module": "@jupyter-widgets/controls",
          "model_name": "FloatProgressModel",
          "model_module_version": "2.0.0",
          "state": {
            "_dom_classes": [],
            "_model_module": "@jupyter-widgets/controls",
            "_model_module_version": "2.0.0",
            "_model_name": "FloatProgressModel",
            "_view_count": null,
            "_view_module": "@jupyter-widgets/controls",
            "_view_module_version": "2.0.0",
            "_view_name": "ProgressView",
            "bar_style": "success",
            "description": "",
            "description_allow_html": false,
            "layout": "IPY_MODEL_d4e5a9c8e7704aee85463a2a82ac727d",
            "max": 30036,
            "min": 0,
            "orientation": "horizontal",
            "style": "IPY_MODEL_d047a9a45c4047ec8e8664deb2833df8",
            "tabbable": null,
            "tooltip": null,
            "value": 30036
          }
        },
        "f78d7b74ac3b4eebbde1d2f67c038bf1": {
          "model_module": "@jupyter-widgets/controls",
          "model_name": "HTMLModel",
          "model_module_version": "2.0.0",
          "state": {
            "_dom_classes": [],
            "_model_module": "@jupyter-widgets/controls",
            "_model_module_version": "2.0.0",
            "_model_name": "HTMLModel",
            "_view_count": null,
            "_view_module": "@jupyter-widgets/controls",
            "_view_module_version": "2.0.0",
            "_view_name": "HTMLView",
            "description": "",
            "description_allow_html": false,
            "layout": "IPY_MODEL_a859667d9f624ef7b3f046bba45d0393",
            "placeholder": "​",
            "style": "IPY_MODEL_83ac0e8bbe7a425d8fcfbdfe41569443",
            "tabbable": null,
            "tooltip": null,
            "value": " 30036/30036 [00:07&lt;00:00, 4378.08it/s]"
          }
        },
        "2fe3dd320c0749c4a9e21a8725240f82": {
          "model_module": "@jupyter-widgets/base",
          "model_name": "LayoutModel",
          "model_module_version": "2.0.0",
          "state": {
            "_model_module": "@jupyter-widgets/base",
            "_model_module_version": "2.0.0",
            "_model_name": "LayoutModel",
            "_view_count": null,
            "_view_module": "@jupyter-widgets/base",
            "_view_module_version": "2.0.0",
            "_view_name": "LayoutView",
            "align_content": null,
            "align_items": null,
            "align_self": null,
            "border_bottom": null,
            "border_left": null,
            "border_right": null,
            "border_top": null,
            "bottom": null,
            "display": null,
            "flex": null,
            "flex_flow": null,
            "grid_area": null,
            "grid_auto_columns": null,
            "grid_auto_flow": null,
            "grid_auto_rows": null,
            "grid_column": null,
            "grid_gap": null,
            "grid_row": null,
            "grid_template_areas": null,
            "grid_template_columns": null,
            "grid_template_rows": null,
            "height": null,
            "justify_content": null,
            "justify_items": null,
            "left": null,
            "margin": null,
            "max_height": null,
            "max_width": null,
            "min_height": null,
            "min_width": null,
            "object_fit": null,
            "object_position": null,
            "order": null,
            "overflow": null,
            "padding": null,
            "right": null,
            "top": null,
            "visibility": null,
            "width": null
          }
        },
        "23deba1ddd0042fa8d92a7165070dc1a": {
          "model_module": "@jupyter-widgets/base",
          "model_name": "LayoutModel",
          "model_module_version": "2.0.0",
          "state": {
            "_model_module": "@jupyter-widgets/base",
            "_model_module_version": "2.0.0",
            "_model_name": "LayoutModel",
            "_view_count": null,
            "_view_module": "@jupyter-widgets/base",
            "_view_module_version": "2.0.0",
            "_view_name": "LayoutView",
            "align_content": null,
            "align_items": null,
            "align_self": null,
            "border_bottom": null,
            "border_left": null,
            "border_right": null,
            "border_top": null,
            "bottom": null,
            "display": null,
            "flex": null,
            "flex_flow": null,
            "grid_area": null,
            "grid_auto_columns": null,
            "grid_auto_flow": null,
            "grid_auto_rows": null,
            "grid_column": null,
            "grid_gap": null,
            "grid_row": null,
            "grid_template_areas": null,
            "grid_template_columns": null,
            "grid_template_rows": null,
            "height": null,
            "justify_content": null,
            "justify_items": null,
            "left": null,
            "margin": null,
            "max_height": null,
            "max_width": null,
            "min_height": null,
            "min_width": null,
            "object_fit": null,
            "object_position": null,
            "order": null,
            "overflow": null,
            "padding": null,
            "right": null,
            "top": null,
            "visibility": null,
            "width": null
          }
        },
        "3c186200034d4e47859586b52fbe8584": {
          "model_module": "@jupyter-widgets/controls",
          "model_name": "HTMLStyleModel",
          "model_module_version": "2.0.0",
          "state": {
            "_model_module": "@jupyter-widgets/controls",
            "_model_module_version": "2.0.0",
            "_model_name": "HTMLStyleModel",
            "_view_count": null,
            "_view_module": "@jupyter-widgets/base",
            "_view_module_version": "2.0.0",
            "_view_name": "StyleView",
            "background": null,
            "description_width": "",
            "font_size": null,
            "text_color": null
          }
        },
        "d4e5a9c8e7704aee85463a2a82ac727d": {
          "model_module": "@jupyter-widgets/base",
          "model_name": "LayoutModel",
          "model_module_version": "2.0.0",
          "state": {
            "_model_module": "@jupyter-widgets/base",
            "_model_module_version": "2.0.0",
            "_model_name": "LayoutModel",
            "_view_count": null,
            "_view_module": "@jupyter-widgets/base",
            "_view_module_version": "2.0.0",
            "_view_name": "LayoutView",
            "align_content": null,
            "align_items": null,
            "align_self": null,
            "border_bottom": null,
            "border_left": null,
            "border_right": null,
            "border_top": null,
            "bottom": null,
            "display": null,
            "flex": null,
            "flex_flow": null,
            "grid_area": null,
            "grid_auto_columns": null,
            "grid_auto_flow": null,
            "grid_auto_rows": null,
            "grid_column": null,
            "grid_gap": null,
            "grid_row": null,
            "grid_template_areas": null,
            "grid_template_columns": null,
            "grid_template_rows": null,
            "height": null,
            "justify_content": null,
            "justify_items": null,
            "left": null,
            "margin": null,
            "max_height": null,
            "max_width": null,
            "min_height": null,
            "min_width": null,
            "object_fit": null,
            "object_position": null,
            "order": null,
            "overflow": null,
            "padding": null,
            "right": null,
            "top": null,
            "visibility": null,
            "width": null
          }
        },
        "d047a9a45c4047ec8e8664deb2833df8": {
          "model_module": "@jupyter-widgets/controls",
          "model_name": "ProgressStyleModel",
          "model_module_version": "2.0.0",
          "state": {
            "_model_module": "@jupyter-widgets/controls",
            "_model_module_version": "2.0.0",
            "_model_name": "ProgressStyleModel",
            "_view_count": null,
            "_view_module": "@jupyter-widgets/base",
            "_view_module_version": "2.0.0",
            "_view_name": "StyleView",
            "bar_color": null,
            "description_width": ""
          }
        },
        "a859667d9f624ef7b3f046bba45d0393": {
          "model_module": "@jupyter-widgets/base",
          "model_name": "LayoutModel",
          "model_module_version": "2.0.0",
          "state": {
            "_model_module": "@jupyter-widgets/base",
            "_model_module_version": "2.0.0",
            "_model_name": "LayoutModel",
            "_view_count": null,
            "_view_module": "@jupyter-widgets/base",
            "_view_module_version": "2.0.0",
            "_view_name": "LayoutView",
            "align_content": null,
            "align_items": null,
            "align_self": null,
            "border_bottom": null,
            "border_left": null,
            "border_right": null,
            "border_top": null,
            "bottom": null,
            "display": null,
            "flex": null,
            "flex_flow": null,
            "grid_area": null,
            "grid_auto_columns": null,
            "grid_auto_flow": null,
            "grid_auto_rows": null,
            "grid_column": null,
            "grid_gap": null,
            "grid_row": null,
            "grid_template_areas": null,
            "grid_template_columns": null,
            "grid_template_rows": null,
            "height": null,
            "justify_content": null,
            "justify_items": null,
            "left": null,
            "margin": null,
            "max_height": null,
            "max_width": null,
            "min_height": null,
            "min_width": null,
            "object_fit": null,
            "object_position": null,
            "order": null,
            "overflow": null,
            "padding": null,
            "right": null,
            "top": null,
            "visibility": null,
            "width": null
          }
        },
        "83ac0e8bbe7a425d8fcfbdfe41569443": {
          "model_module": "@jupyter-widgets/controls",
          "model_name": "HTMLStyleModel",
          "model_module_version": "2.0.0",
          "state": {
            "_model_module": "@jupyter-widgets/controls",
            "_model_module_version": "2.0.0",
            "_model_name": "HTMLStyleModel",
            "_view_count": null,
            "_view_module": "@jupyter-widgets/base",
            "_view_module_version": "2.0.0",
            "_view_name": "StyleView",
            "background": null,
            "description_width": "",
            "font_size": null,
            "text_color": null
          }
        }
      }
    }
  },
  "nbformat": 4,
  "nbformat_minor": 0
}